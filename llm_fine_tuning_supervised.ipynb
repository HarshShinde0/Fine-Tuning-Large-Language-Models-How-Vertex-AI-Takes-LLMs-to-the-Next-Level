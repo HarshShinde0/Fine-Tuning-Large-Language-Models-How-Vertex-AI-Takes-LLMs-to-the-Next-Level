{
  "nbformat": 4,
  "nbformat_minor": 0,
  "metadata": {
    "colab": {
      "provenance": [],
      "gpuType": "T4",
      "include_colab_link": true
    },
    "kernelspec": {
      "name": "python3",
      "display_name": "Python 3"
    },
    "language_info": {
      "name": "python"
    },
    "accelerator": "GPU"
  },
  "cells": [
    {
      "cell_type": "markdown",
      "metadata": {
        "id": "view-in-github",
        "colab_type": "text"
      },
      "source": [
        "<a href=\"https://colab.research.google.com/github/HarshShinde0/Fine-Tuning-Large-Language-Models-How-Vertex-AI-Takes-LLMs-to-the-Next-Level/blob/main/llm_fine_tuning_supervised.ipynb\" target=\"_parent\"><img src=\"https://colab.research.google.com/assets/colab-badge.svg\" alt=\"Open In Colab\"/></a>"
      ]
    },
    {
      "cell_type": "code",
      "source": [
        "# Copyright 2023 Google LLC\n",
        "#\n",
        "# Licensed under the Apache License, Version 2.0 (the \"License\");\n",
        "# you may not use this file except in compliance with the License.\n",
        "# You may obtain a copy of the License at\n",
        "#\n",
        "#     https://www.apache.org/licenses/LICENSE-2.0\n",
        "#\n",
        "# Unless required by applicable law or agreed to in writing, software\n",
        "# distributed under the License is distributed on an \"AS IS\" BASIS,\n",
        "# WITHOUT WARRANTIES OR CONDITIONS OF ANY KIND, either express or implied.\n",
        "# See the License for the specific language governing permissions and\n",
        "# limitations under the License."
      ],
      "metadata": {
        "id": "lxNSDQiABtXy"
      },
      "execution_count": null,
      "outputs": []
    },
    {
      "cell_type": "markdown",
      "source": [
        "# Model Tuning with Vertex AI Foundation Model"
      ],
      "metadata": {
        "id": "80XPRJ8v5lgL"
      }
    },
    {
      "cell_type": "markdown",
      "source": [
        "LLMOps, or Large Language Model Operations, is an important methodology as organizations increasingly adopt large language models (LLMs) for a wide range of applications. LLMOps is the set of tools, processes, and best practices for managing the lifecycle of LLMs, from development and deployment to monitoring and maintenance. Vertex AI offers services to manage LLMOps pipelines as also mechanisms to evaluate the new models quality after every pipeline execution that you run. Model fine-tuning is a powerful technique used to improve the performance of pre-trained language models (LLMs) for specific tasks or domains. It involves adjusting the model's parameters based on a new dataset or task-specific data to enhance its ability to make accurate predictions or generate relevant text. By fine-tuning an LLM, we can leverage its existing knowledge and adapt it to a specific context, resulting in improved results and better-tailored outputs. For more details on tuning have a look at the official [documentation](https://cloud.google.com/vertex-ai/generative-ai/docs/models/tune-models)."
      ],
      "metadata": {
        "id": "bhOnxlzu7ueX"
      }
    },
    {
      "cell_type": "markdown",
      "source": [
        "# Objective"
      ],
      "metadata": {
        "id": "MpxwbaWD8Vyn"
      }
    },
    {
      "cell_type": "markdown",
      "source": [
        "This lab teaches you how to tune a foundational model on new unseen data and you will use the following Google Cloud products:\n",
        "*   Vertex AI Pipelines\n",
        "*   Vertex AI Evaluation Services\n",
        "*   Vertex AI Model Registry\n",
        "*   Vertex AI Endpoints"
      ],
      "metadata": {
        "id": "TwFJ03nC712l"
      }
    },
    {
      "cell_type": "markdown",
      "source": [
        "# Use Case"
      ],
      "metadata": {
        "id": "r2FysBTQ8Y0G"
      }
    },
    {
      "cell_type": "markdown",
      "source": [
        "Using Generative AI we will generate a suitable TITLE for a news BODY from BBC FULLTEXT DATA (Sourced from BigQuery Public Dataset *bigquery-public-data.bbc_news.fulltext*). We will fine tune text-bison@002 to a new fine-tuned model called \"bbc-news-summary-tuned\" and compare the result with the response from the base model."
      ],
      "metadata": {
        "id": "x-UZNmmw8a3K"
      }
    },
    {
      "cell_type": "markdown",
      "source": [
        "# Install and Import Dependencies"
      ],
      "metadata": {
        "id": "-B6XiWwF1Ja9"
      }
    },
    {
      "cell_type": "code",
      "execution_count": null,
      "metadata": {
        "id": "k5l7--obsUKv"
      },
      "outputs": [],
      "source": [
        "!pip install google-cloud-aiplatform\n",
        "!pip install --user datasets\n",
        "!pip install --user google-cloud-pipeline-components"
      ]
    },
    {
      "cell_type": "code",
      "source": [
        "import IPython\n",
        "\n",
        "app = IPython.Application.instance()\n",
        "app.kernel.do_shutdown(True)"
      ],
      "metadata": {
        "id": "yWIsbb7RtAwN"
      },
      "execution_count": null,
      "outputs": []
    },
    {
      "cell_type": "code",
      "source": [
        "import IPython\n",
        "from google.cloud import aiplatform\n",
        "from google.colab import auth as google_auth\n",
        "google_auth.authenticate_user()"
      ],
      "metadata": {
        "id": "TdMNkeTWspQS"
      },
      "execution_count": null,
      "outputs": []
    },
    {
      "cell_type": "code",
      "source": [
        "import vertexai\n",
        "PROJECT_ID = \"structured-unstructured-data\" #@param\n",
        "vertexai.init(project=PROJECT_ID)"
      ],
      "metadata": {
        "id": "Frvr_myhs1L9"
      },
      "execution_count": null,
      "outputs": []
    },
    {
      "cell_type": "code",
      "source": [
        "region = \"us-central1\"\n",
        "REGION = \"us-central1\"\n",
        "project_id = \"structured-unstructured-data\""
      ],
      "metadata": {
        "id": "9pog2mkBtP3E"
      },
      "execution_count": null,
      "outputs": []
    },
    {
      "cell_type": "code",
      "source": [
        "! gcloud config set project {project_id}"
      ],
      "metadata": {
        "id": "InNk_-_TtkSt"
      },
      "execution_count": null,
      "outputs": []
    },
    {
      "cell_type": "code",
      "source": [
        "#Import the necessary libraries\n",
        "\n",
        "import os\n",
        "os.environ['TF_CPP_MIN_LOG_LEVEL'] = '3'\n",
        "import warnings\n",
        "warnings.filterwarnings('ignore')\n",
        "import vertexai\n",
        "vertexai.init(project=PROJECT_ID, location=REGION)\n",
        "import kfp\n",
        "import sys\n",
        "import uuid\n",
        "import json\n",
        "import vertexai\n",
        "import pandas as pd\n",
        "from google.auth import default\n",
        "from datasets import load_dataset\n",
        "from google.cloud import aiplatform\n",
        "from vertexai.preview.language_models import TextGenerationModel, EvaluationTextSummarizationSpec\n"
      ],
      "metadata": {
        "id": "FGfBIRmAuWl8"
      },
      "execution_count": null,
      "outputs": []
    },
    {
      "cell_type": "markdown",
      "source": [
        "# Prepare & Load Training Data"
      ],
      "metadata": {
        "id": "E4-peVbi1j4e"
      }
    },
    {
      "cell_type": "code",
      "source": [
        "BUCKET_NAME = 'llmtuning_ssn'\n",
        "BUCKET_URI = f\"gs://llmtuning_ssn/TRAIN.jsonl\"\n",
        "REGION = \"us-central1\""
      ],
      "metadata": {
        "id": "fin5SxNztrF4"
      },
      "execution_count": null,
      "outputs": []
    },
    {
      "cell_type": "code",
      "source": [
        "print(df.shape)"
      ],
      "metadata": {
        "id": "zyn4n4EzvDa9"
      },
      "execution_count": null,
      "outputs": []
    },
    {
      "cell_type": "markdown",
      "source": [
        "Fine Tune Text Bison@002 Model"
      ],
      "metadata": {
        "id": "mDh3c3kS15rs"
      }
    },
    {
      "cell_type": "code",
      "source": [
        "model_display_name = 'bbc-finetuned-model' # @param {type:\"string\"}\n",
        "tuned_model = TextGenerationModel.from_pretrained(\"text-bison@002\")\n",
        "tuned_model.tune_model(\n",
        "training_data=df,\n",
        "train_steps=100,\n",
        "tuning_job_location=\"us-central1\",\n",
        "tuned_model_location=\"us-central1\",\n",
        ")\n"
      ],
      "metadata": {
        "id": "wGFyXDrqA7iD"
      },
      "execution_count": null,
      "outputs": []
    },
    {
      "cell_type": "markdown",
      "source": [
        "# Predict with the new Fine Tuned Model"
      ],
      "metadata": {
        "id": "pPK75J9C1_je"
      }
    },
    {
      "cell_type": "code",
      "source": [
        "response = tuned_model.predict(\"Summarize this text to generate a title: \\n Ever noticed how plane seats appear to be getting smaller and smaller? With increasing numbers of people taking to the skies, some experts are questioning if having such packed out planes is putting passengers at risk. They say that the shrinking space on aeroplanes is not only uncomfortable it it's putting our health and safety in danger. More than squabbling over the arm rest, shrinking space on planes putting our health and safety in danger? This week, a U.S consumer advisory group set up by the Department of Transportation said at a public hearing that while the government is happy to set standards for animals flying on planes, it doesn't stipulate a minimum amount of space for humans.\")\n",
        "print(response.text)"
      ],
      "metadata": {
        "id": "dLuZZQcGzCHJ"
      },
      "execution_count": null,
      "outputs": []
    },
    {
      "cell_type": "code",
      "source": [
        "tuned_model_name = tuned_model._endpoint.gca_resource.deployed_models[0].model\n",
        "tuned_model_1 = TextGenerationModel.get_tuned_model(tuned_model_name)\n",
        "#TextGenerationModel.get_tuned_model(\"bbc-finetuned-model\")\n",
        "response = tuned_model_1.predict(\"Summarize this text to generate a title: \\n Ever noticed how plane seats appear to be getting smaller and smaller? With increasing numbers of people taking to the skies, some experts are questioning if having such packed out planes is putting passengers at risk. They say that the shrinking space on aeroplanes is not only uncomfortable it it's putting our health and safety in danger. More than squabbling over the arm rest, shrinking space on planes putting our health and safety in danger? This week, a U.S consumer advisory group set up by the Department of Transportation said at a public hearing that while the government is happy to set standards for animals flying on planes, it doesn't stipulate a minimum amount of space for humans.\")\n",
        "print(response.text)"
      ],
      "metadata": {
        "id": "76M2mMpl3W3C"
      },
      "execution_count": null,
      "outputs": []
    },
    {
      "cell_type": "markdown",
      "source": [
        "# Predict with Base Model for comparison"
      ],
      "metadata": {
        "id": "2gnkdfyF0_H1"
      }
    },
    {
      "cell_type": "code",
      "source": [
        "base_model = TextGenerationModel.from_pretrained(\"text-bison@002\")\n",
        "response = base_model.predict(\"Summarize this text to generate a title: \\n Ever noticed how plane seats appear to be getting smaller and smaller? With increasing numbers of people taking to the skies, some experts are questioning if having such packed out planes is putting passengers at risk. They say that the shrinking space on aeroplanes is not only uncomfortable it it's putting our health and safety in danger. More than squabbling over the arm rest, shrinking space on planes putting our health and safety in danger? This week, a U.S consumer advisory group set up by the Department of Transportation said at a public hearing that while the government is happy to set standards for animals flying on planes, it doesn't stipulate a minimum amount of space for humans.\")\n",
        "print(response.text)"
      ],
      "metadata": {
        "id": "wQps8gQ52RJ9"
      },
      "execution_count": null,
      "outputs": []
    }
  ]
}